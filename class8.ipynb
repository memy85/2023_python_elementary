{
 "cells": [
  {
   "cell_type": "markdown",
   "id": "70bac932-ebce-48f2-9641-56de6dfd78ac",
   "metadata": {},
   "source": [
    "## class 8\n",
    "- recap\n",
    "    - pandas \n",
    "        - Series\n",
    "        - DataFrame : apply, groupby\n",
    "- matplotlib\n",
    "- git repository and projects"
   ]
  },
  {
   "cell_type": "code",
   "execution_count": null,
   "id": "48686b86",
   "metadata": {},
   "outputs": [],
   "source": [
    "!pip3 install matplotlib"
   ]
  },
  {
   "cell_type": "code",
   "execution_count": 1,
   "id": "1b05c004-890e-436b-8a94-c029c7ac2aeb",
   "metadata": {
    "tags": []
   },
   "outputs": [],
   "source": [
    "# Recap - 복습 후 matplotlib 강의\n",
    "\n",
    "import pandas as pd\n",
    "import matplotlib.pyplot as plt"
   ]
  },
  {
   "cell_type": "code",
   "execution_count": 2,
   "id": "010ff091-e4a0-4151-af47-1e15861151c1",
   "metadata": {},
   "outputs": [],
   "source": [
    "titanic = pd.read_csv('data/titanic.csv')"
   ]
  },
  {
   "cell_type": "code",
   "execution_count": 3,
   "id": "731fe54d",
   "metadata": {},
   "outputs": [
    {
     "data": {
      "text/html": [
       "<div>\n",
       "<style scoped>\n",
       "    .dataframe tbody tr th:only-of-type {\n",
       "        vertical-align: middle;\n",
       "    }\n",
       "\n",
       "    .dataframe tbody tr th {\n",
       "        vertical-align: top;\n",
       "    }\n",
       "\n",
       "    .dataframe thead th {\n",
       "        text-align: right;\n",
       "    }\n",
       "</style>\n",
       "<table border=\"1\" class=\"dataframe\">\n",
       "  <thead>\n",
       "    <tr style=\"text-align: right;\">\n",
       "      <th></th>\n",
       "      <th>PassengerId</th>\n",
       "      <th>Survived</th>\n",
       "      <th>Pclass</th>\n",
       "      <th>Name</th>\n",
       "      <th>Sex</th>\n",
       "      <th>Age</th>\n",
       "      <th>SibSp</th>\n",
       "      <th>Parch</th>\n",
       "      <th>Ticket</th>\n",
       "      <th>Fare</th>\n",
       "      <th>Cabin</th>\n",
       "      <th>Embarked</th>\n",
       "    </tr>\n",
       "  </thead>\n",
       "  <tbody>\n",
       "    <tr>\n",
       "      <th>0</th>\n",
       "      <td>1</td>\n",
       "      <td>0</td>\n",
       "      <td>3</td>\n",
       "      <td>Braund, Mr. Owen Harris</td>\n",
       "      <td>male</td>\n",
       "      <td>22.0</td>\n",
       "      <td>1</td>\n",
       "      <td>0</td>\n",
       "      <td>A/5 21171</td>\n",
       "      <td>7.2500</td>\n",
       "      <td>NaN</td>\n",
       "      <td>S</td>\n",
       "    </tr>\n",
       "    <tr>\n",
       "      <th>1</th>\n",
       "      <td>2</td>\n",
       "      <td>1</td>\n",
       "      <td>1</td>\n",
       "      <td>Cumings, Mrs. John Bradley (Florence Briggs Th...</td>\n",
       "      <td>female</td>\n",
       "      <td>38.0</td>\n",
       "      <td>1</td>\n",
       "      <td>0</td>\n",
       "      <td>PC 17599</td>\n",
       "      <td>71.2833</td>\n",
       "      <td>C85</td>\n",
       "      <td>C</td>\n",
       "    </tr>\n",
       "    <tr>\n",
       "      <th>2</th>\n",
       "      <td>3</td>\n",
       "      <td>1</td>\n",
       "      <td>3</td>\n",
       "      <td>Heikkinen, Miss. Laina</td>\n",
       "      <td>female</td>\n",
       "      <td>26.0</td>\n",
       "      <td>0</td>\n",
       "      <td>0</td>\n",
       "      <td>STON/O2. 3101282</td>\n",
       "      <td>7.9250</td>\n",
       "      <td>NaN</td>\n",
       "      <td>S</td>\n",
       "    </tr>\n",
       "    <tr>\n",
       "      <th>3</th>\n",
       "      <td>4</td>\n",
       "      <td>1</td>\n",
       "      <td>1</td>\n",
       "      <td>Futrelle, Mrs. Jacques Heath (Lily May Peel)</td>\n",
       "      <td>female</td>\n",
       "      <td>35.0</td>\n",
       "      <td>1</td>\n",
       "      <td>0</td>\n",
       "      <td>113803</td>\n",
       "      <td>53.1000</td>\n",
       "      <td>C123</td>\n",
       "      <td>S</td>\n",
       "    </tr>\n",
       "    <tr>\n",
       "      <th>4</th>\n",
       "      <td>5</td>\n",
       "      <td>0</td>\n",
       "      <td>3</td>\n",
       "      <td>Allen, Mr. William Henry</td>\n",
       "      <td>male</td>\n",
       "      <td>35.0</td>\n",
       "      <td>0</td>\n",
       "      <td>0</td>\n",
       "      <td>373450</td>\n",
       "      <td>8.0500</td>\n",
       "      <td>NaN</td>\n",
       "      <td>S</td>\n",
       "    </tr>\n",
       "  </tbody>\n",
       "</table>\n",
       "</div>"
      ],
      "text/plain": [
       "   PassengerId  Survived  Pclass   \n",
       "0            1         0       3  \\\n",
       "1            2         1       1   \n",
       "2            3         1       3   \n",
       "3            4         1       1   \n",
       "4            5         0       3   \n",
       "\n",
       "                                                Name     Sex   Age  SibSp   \n",
       "0                            Braund, Mr. Owen Harris    male  22.0      1  \\\n",
       "1  Cumings, Mrs. John Bradley (Florence Briggs Th...  female  38.0      1   \n",
       "2                             Heikkinen, Miss. Laina  female  26.0      0   \n",
       "3       Futrelle, Mrs. Jacques Heath (Lily May Peel)  female  35.0      1   \n",
       "4                           Allen, Mr. William Henry    male  35.0      0   \n",
       "\n",
       "   Parch            Ticket     Fare Cabin Embarked  \n",
       "0      0         A/5 21171   7.2500   NaN        S  \n",
       "1      0          PC 17599  71.2833   C85        C  \n",
       "2      0  STON/O2. 3101282   7.9250   NaN        S  \n",
       "3      0            113803  53.1000  C123        S  \n",
       "4      0            373450   8.0500   NaN        S  "
      ]
     },
     "execution_count": 3,
     "metadata": {},
     "output_type": "execute_result"
    }
   ],
   "source": [
    "titanic.head()"
   ]
  },
  {
   "cell_type": "code",
   "execution_count": 6,
   "id": "ff8b932d",
   "metadata": {},
   "outputs": [
    {
     "data": {
      "text/plain": [
       "Survived\n",
       "0    549\n",
       "1    342\n",
       "Name: count, dtype: int64"
      ]
     },
     "execution_count": 6,
     "metadata": {},
     "output_type": "execute_result"
    }
   ],
   "source": [
    "counts"
   ]
  },
  {
   "cell_type": "code",
   "execution_count": 5,
   "id": "682c6192",
   "metadata": {},
   "outputs": [
    {
     "data": {
      "text/plain": [
       "Text(0.5, 1.0, 'Titanic dead/alive ratio')"
      ]
     },
     "execution_count": 5,
     "metadata": {},
     "output_type": "execute_result"
    },
    {
     "data": {
      "image/png": "[encoded data removed]",
      "text/plain": [
       "<Figure size 640x480 with 1 Axes>"
      ]
     },
     "metadata": {},
     "output_type": "display_data"
    }
   ],
   "source": [
    "# Bar Plot (막대 그래프)\n",
    "\n",
    "counts = titanic['Survived'].value_counts()\n",
    "\n",
    "plt.bar([\"Dead\", \"Alive\"], counts, color= 'tomato')\n",
    "plt.xlabel('Dead/Alive')\n",
    "plt.ylabel(\"counts\")\n",
    "plt.title(\"Titanic dead/alive ratio\")"
   ]
  },
  {
   "cell_type": "code",
   "execution_count": 10,
   "id": "d5d2384d",
   "metadata": {},
   "outputs": [
    {
     "data": {
      "text/plain": [
       "Text(0.5, 1.0, 'Titanic Age Histogram')"
      ]
     },
     "execution_count": 10,
     "metadata": {},
     "output_type": "execute_result"
    },
    {
     "data": {
      "image/png": "[encoded data removed]",
      "text/plain": [
       "<Figure size 640x480 with 1 Axes>"
      ]
     },
     "metadata": {},
     "output_type": "display_data"
    }
   ],
   "source": [
    "# Histogram - 빈도표\n",
    "\n",
    "age = titanic['Age']\n",
    "\n",
    "plt.hist(age, color = 'tomato', bins = 30, density = True)\n",
    "plt.xlabel(\"Age\")\n",
    "plt.ylabel(\"Counts\")\n",
    "plt.title(\"Titanic Age Histogram\")"
   ]
  },
  {
   "cell_type": "code",
   "execution_count": 11,
   "id": "c98514b1",
   "metadata": {},
   "outputs": [],
   "source": [
    "# Line plot\n",
    "\n",
    "re = pd.read_csv(\"data/screened.csv\") # 부동산 데이터\n"
   ]
  },
  {
   "cell_type": "code",
   "execution_count": 15,
   "id": "dce3546e",
   "metadata": {},
   "outputs": [
    {
     "data": {
      "text/html": [
       "<div>\n",
       "<style scoped>\n",
       "    .dataframe tbody tr th:only-of-type {\n",
       "        vertical-align: middle;\n",
       "    }\n",
       "\n",
       "    .dataframe tbody tr th {\n",
       "        vertical-align: top;\n",
       "    }\n",
       "\n",
       "    .dataframe thead th {\n",
       "        text-align: right;\n",
       "    }\n",
       "</style>\n",
       "<table border=\"1\" class=\"dataframe\">\n",
       "  <thead>\n",
       "    <tr style=\"text-align: right;\">\n",
       "      <th></th>\n",
       "      <th>registration_date</th>\n",
       "      <th>location</th>\n",
       "      <th>size</th>\n",
       "      <th>floor</th>\n",
       "      <th>old</th>\n",
       "      <th>type</th>\n",
       "      <th>KBIR</th>\n",
       "      <th>KRWDLR</th>\n",
       "      <th>MTL</th>\n",
       "      <th>CRM</th>\n",
       "      <th>ESIS</th>\n",
       "      <th>OBPR</th>\n",
       "      <th>APTTRD</th>\n",
       "      <th>VLTRD</th>\n",
       "      <th>price</th>\n",
       "    </tr>\n",
       "  </thead>\n",
       "  <tbody>\n",
       "    <tr>\n",
       "      <th>0</th>\n",
       "      <td>2020-06-01</td>\n",
       "      <td>강남구</td>\n",
       "      <td>77.75</td>\n",
       "      <td>4</td>\n",
       "      <td>32.0</td>\n",
       "      <td>apt</td>\n",
       "      <td>0.5</td>\n",
       "      <td>1208.845455</td>\n",
       "      <td>2.49</td>\n",
       "      <td>125739.8</td>\n",
       "      <td>74.3</td>\n",
       "      <td>99.71</td>\n",
       "      <td>139.9</td>\n",
       "      <td>97.2</td>\n",
       "      <td>149500</td>\n",
       "    </tr>\n",
       "    <tr>\n",
       "      <th>1</th>\n",
       "      <td>2020-06-01</td>\n",
       "      <td>강남구</td>\n",
       "      <td>79.97</td>\n",
       "      <td>4</td>\n",
       "      <td>33.0</td>\n",
       "      <td>apt</td>\n",
       "      <td>0.5</td>\n",
       "      <td>1208.845455</td>\n",
       "      <td>2.49</td>\n",
       "      <td>125739.8</td>\n",
       "      <td>74.3</td>\n",
       "      <td>99.71</td>\n",
       "      <td>139.9</td>\n",
       "      <td>97.2</td>\n",
       "      <td>162750</td>\n",
       "    </tr>\n",
       "    <tr>\n",
       "      <th>2</th>\n",
       "      <td>2020-06-01</td>\n",
       "      <td>강남구</td>\n",
       "      <td>79.97</td>\n",
       "      <td>5</td>\n",
       "      <td>33.0</td>\n",
       "      <td>apt</td>\n",
       "      <td>0.5</td>\n",
       "      <td>1208.845455</td>\n",
       "      <td>2.49</td>\n",
       "      <td>125739.8</td>\n",
       "      <td>74.3</td>\n",
       "      <td>99.71</td>\n",
       "      <td>139.9</td>\n",
       "      <td>97.2</td>\n",
       "      <td>160000</td>\n",
       "    </tr>\n",
       "    <tr>\n",
       "      <th>3</th>\n",
       "      <td>2020-06-01</td>\n",
       "      <td>강남구</td>\n",
       "      <td>79.97</td>\n",
       "      <td>2</td>\n",
       "      <td>33.0</td>\n",
       "      <td>apt</td>\n",
       "      <td>0.5</td>\n",
       "      <td>1208.845455</td>\n",
       "      <td>2.49</td>\n",
       "      <td>125739.8</td>\n",
       "      <td>74.3</td>\n",
       "      <td>99.71</td>\n",
       "      <td>139.9</td>\n",
       "      <td>97.2</td>\n",
       "      <td>150000</td>\n",
       "    </tr>\n",
       "    <tr>\n",
       "      <th>4</th>\n",
       "      <td>2020-06-01</td>\n",
       "      <td>강남구</td>\n",
       "      <td>67.28</td>\n",
       "      <td>2</td>\n",
       "      <td>33.0</td>\n",
       "      <td>apt</td>\n",
       "      <td>0.5</td>\n",
       "      <td>1208.845455</td>\n",
       "      <td>2.49</td>\n",
       "      <td>125739.8</td>\n",
       "      <td>74.3</td>\n",
       "      <td>99.71</td>\n",
       "      <td>139.9</td>\n",
       "      <td>97.2</td>\n",
       "      <td>165000</td>\n",
       "    </tr>\n",
       "  </tbody>\n",
       "</table>\n",
       "</div>"
      ],
      "text/plain": [
       "  registration_date location   size  floor   old type  KBIR       KRWDLR   \n",
       "0        2020-06-01      강남구  77.75      4  32.0  apt   0.5  1208.845455  \\\n",
       "1        2020-06-01      강남구  79.97      4  33.0  apt   0.5  1208.845455   \n",
       "2        2020-06-01      강남구  79.97      5  33.0  apt   0.5  1208.845455   \n",
       "3        2020-06-01      강남구  79.97      2  33.0  apt   0.5  1208.845455   \n",
       "4        2020-06-01      강남구  67.28      2  33.0  apt   0.5  1208.845455   \n",
       "\n",
       "    MTL       CRM  ESIS   OBPR  APTTRD  VLTRD   price  \n",
       "0  2.49  125739.8  74.3  99.71   139.9   97.2  149500  \n",
       "1  2.49  125739.8  74.3  99.71   139.9   97.2  162750  \n",
       "2  2.49  125739.8  74.3  99.71   139.9   97.2  160000  \n",
       "3  2.49  125739.8  74.3  99.71   139.9   97.2  150000  \n",
       "4  2.49  125739.8  74.3  99.71   139.9   97.2  165000  "
      ]
     },
     "execution_count": 15,
     "metadata": {},
     "output_type": "execute_result"
    }
   ],
   "source": [
    "re.head()"
   ]
  },
  {
   "cell_type": "code",
   "execution_count": 12,
   "id": "41f34bf7",
   "metadata": {},
   "outputs": [],
   "source": [
    "gangnam = re[re.location == '강남구']\n",
    "gangnam = gangnam.groupby(\"registration_date\")['price'].mean().reset_index(name = \"Price\")"
   ]
  },
  {
   "cell_type": "code",
   "execution_count": 17,
   "id": "48570c58",
   "metadata": {},
   "outputs": [
    {
     "data": {
      "image/png": "[encoded data removed]",
      "text/plain": [
       "<Figure size 640x480 with 1 Axes>"
      ]
     },
     "metadata": {},
     "output_type": "display_data"
    }
   ],
   "source": [
    "x = gangnam['registration_date']\n",
    "y = gangnam['Price']\n",
    "\n",
    "plt.plot(x, y, color='tomato')\n",
    "plt.xlabel('Date')\n",
    "plt.ylabel('Price')\n",
    "plt.xticks(rotation=45, ha = 'right');"
   ]
  },
  {
   "attachments": {},
   "cell_type": "markdown",
   "id": "78f9339c",
   "metadata": {},
   "source": [
    "## Class 8 계속\n",
    "- titanic 데이터를 분석해보자.\n",
    "\n",
    "* **PassengerId**: 각 승객의 고유 식별자.\n",
    "* **Survived**: 타깃입니다. 0은 생존하지 못한 것이고 1은 생존을 의미합니다.\n",
    "* **Pclass**: 승객 등급. 1, 2, 3등석.\n",
    "* **Name**, **Sex**, **Age**: 이름 그대로 의미입니다.\n",
    "* **SibSp**: 함께 탑승한 형제, 배우자의 수.\n",
    "* **Parch**: 함께 탑승한 자녀, 부모의 수.\n",
    "* **Ticket**: 티켓 아이디\n",
    "* **Fare**: 티켓 요금 (파운드)\n",
    "* **Cabin**: 객실 번호\n",
    "* **Embarked**: 승객이 탑승한 곳. C(Cherbourg), Q(Queenstown), S(Southampton)"
   ]
  },
  {
   "attachments": {},
   "cell_type": "markdown",
   "id": "7a67a992",
   "metadata": {},
   "source": [
    "## 질문을 던집시다\n",
    "- SibSp, 즉 형제 자매의 수와 사망이 연관이 있을까?"
   ]
  },
  {
   "attachments": {},
   "cell_type": "markdown",
   "id": "e48ff79b",
   "metadata": {},
   "source": [
    "## 데이터의 저장\n",
    "- 추려진 데이터를 저장한다. 여러분의 컴퓨터에 해당 파일을 저장해보세요.\n",
    "- 힌트 : csv 헝태로 저장해봅시다."
   ]
  },
  {
   "cell_type": "code",
   "execution_count": null,
   "id": "c5e3128c",
   "metadata": {},
   "outputs": [],
   "source": []
  },
  {
   "attachments": {},
   "cell_type": "markdown",
   "id": "08f0dba0",
   "metadata": {},
   "source": [
    "## 데이터의 정제 및 EDA\n",
    "- 추려진 데이터에 이상치가 없는지 확인해주고 파싱을 진행해보자"
   ]
  },
  {
   "cell_type": "code",
   "execution_count": null,
   "id": "3c54e5d9",
   "metadata": {},
   "outputs": [],
   "source": []
  },
  {
   "attachments": {},
   "cell_type": "markdown",
   "id": "ec33bce6",
   "metadata": {},
   "source": [
    "## 데이터 시각화를 통한 검증\n",
    "- 풀고자 했던 문제에 대해서 시각화를 진행해서 어떤 경향성이 있는지 insight를 도출해보자."
   ]
  },
  {
   "cell_type": "code",
   "execution_count": null,
   "id": "91f99fe3",
   "metadata": {},
   "outputs": [],
   "source": []
  },
  {
   "attachments": {},
   "cell_type": "markdown",
   "id": "e52572dc",
   "metadata": {},
   "source": [
    "## 통계적 검증"
   ]
  },
  {
   "cell_type": "code",
   "execution_count": 1,
   "id": "b20d90d3",
   "metadata": {},
   "outputs": [],
   "source": [
    "import pandas as pd\n",
    "\n",
    "titanic = pd.read_csv('data/titanic.csv')"
   ]
  },
  {
   "cell_type": "code",
   "execution_count": 8,
   "id": "e766d558",
   "metadata": {},
   "outputs": [],
   "source": [
    "x = titanic['SibSp']\n",
    "y = titanic['Survived']\n",
    "\n",
    "from scipy.stats import pearsonr"
   ]
  },
  {
   "cell_type": "code",
   "execution_count": 9,
   "id": "1e1b82f3",
   "metadata": {},
   "outputs": [
    {
     "data": {
      "text/plain": [
       "PearsonRResult(statistic=-0.03532249888573552, pvalue=0.292243928698296)"
      ]
     },
     "execution_count": 9,
     "metadata": {},
     "output_type": "execute_result"
    }
   ],
   "source": [
    "pearsonr(x,y)"
   ]
  },
  {
   "cell_type": "code",
   "execution_count": null,
   "id": "6fe57ecd",
   "metadata": {},
   "outputs": [],
   "source": []
  }
 ],
 "metadata": {
  "kernelspec": {
   "display_name": "Python 3 (ipykernel)",
   "language": "python",
   "name": "python3"
  },
  "language_info": {
   "codemirror_mode": {
    "name": "ipython",
    "version": 3
   },
   "file_extension": ".py",
   "mimetype": "text/x-python",
   "name": "python",
   "nbconvert_exporter": "python",
   "pygments_lexer": "ipython3",
   "version": "3.10.2"
  }
 },
 "nbformat": 4,
 "nbformat_minor": 5
}
